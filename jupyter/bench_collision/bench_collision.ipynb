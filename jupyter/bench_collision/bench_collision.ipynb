{
 "cells": [
  {
   "cell_type": "markdown",
   "metadata": {},
   "source": [
    "# Preprocessing"
   ]
  },
  {
   "cell_type": "code",
   "execution_count": null,
   "metadata": {},
   "outputs": [],
   "source": [
    "import matplotlib.pyplot as plt\n",
    "textwidth = 15\n",
    "figheight = 0.25*textwidth\n",
    "plt.rcParams[\"figure.figsize\"] = (0.66*textwidth,figheight)\n",
    "plt.rcParams['text.latex.unicode']=True\n",
    "plt.rc('text', usetex=True)\n",
    "plt.rc('font', family='serif')\n",
    "plt.rc('grid', linestyle=\"--\")\n",
    "plt.rc('grid', alpha=\"0.5\")\n",
    "plt.rc('axes', grid=True)\n",
    "\n",
    "import numpy as np\n",
    "import re\n",
    "\n",
    "!mkdir fig\n",
    "\n",
    "def xaxis_mpi():\n",
    "    #plt.xscale('log',basex=2)\n",
    "    plt.gca().set_xticks([1,2,4,8,16,32,64])\n",
    "    plt.xlim([1,64])\n",
    "    plt.xlabel(\"Nombre de processus MPI\")\n",
    "    plt.gca().xaxis.set_major_formatter(plt.FormatStrFormatter('%d'))"
   ]
  },
  {
   "cell_type": "markdown",
   "metadata": {},
   "source": [
    "## Parsing"
   ]
  },
  {
   "cell_type": "code",
   "execution_count": null,
   "metadata": {},
   "outputs": [],
   "source": [
    "filename_regex = \".*stdout_collision_p(\\d*)_s(\\d*)\\.1\\.(\\d*):\"\n",
    "#filename_regex = \".*stdout_collision_p(\\d*)_s(\\d*)/1/rank.(\\d*)/stdout:\""
   ]
  },
  {
   "cell_type": "markdown",
   "metadata": {},
   "source": [
    "#### Parse timers"
   ]
  },
  {
   "cell_type": "code",
   "execution_count": null,
   "metadata": {},
   "outputs": [],
   "source": [
    "!find data/ -name stdout* -exec bash -c \"grep 'Timer' {} /dev/null\" \\; > data/bench_collision_timers.txt"
   ]
  },
  {
   "cell_type": "code",
   "execution_count": null,
   "metadata": {
    "scrolled": false
   },
   "outputs": [],
   "source": [
    "t_last={}\n",
    "t_total={}\n",
    "for line in open(\"data/bench_collision_timers.txt\"):\n",
    "    nb_proc,size,rank,name,t_last_,t_total_ = re.match(filename_regex+\"Timer : (\\S*)\\s*Last :\\s*(\\d*.\\d*) ms   Total :\\s*(\\d*.\\d*) s\", line).groups()\n",
    "    nb_proc = int(nb_proc)\n",
    "    size = int(size)\n",
    "    rank = int(rank)\n",
    "    t_total[nb_proc,size,rank,name] = float(t_last_)/1000.\n",
    "    \n",
    "list_nb_procs = sorted([a for a in set([ p for (p,s,r,n) in t_total.keys() ])])\n",
    "#list_names = sorted([a for a in set([ n for (p,r,n) in t_total.keys() ])])\n",
    "list_names = [ 'Collision', 'Collision.Prepare', 'Collision.Detect', 'Collision.Handle']\n",
    "list_ranks = sorted([a for a in set([ r for (p,s,r,n) in t_total.keys() ])])"
   ]
  },
  {
   "cell_type": "code",
   "execution_count": null,
   "metadata": {},
   "outputs": [],
   "source": [
    "timers_labels={}\n",
    "for name in list_names : \n",
    "    timers_labels[name] = name.translate(str.maketrans({\"_\":  r\"\\_\"}) )\n",
    "timers_labels['Autres']=\"Autres\"\n",
    "name_total='Collision'"
   ]
  },
  {
   "cell_type": "markdown",
   "metadata": {},
   "source": [
    "#### Parse counts"
   ]
  },
  {
   "cell_type": "code",
   "execution_count": null,
   "metadata": {},
   "outputs": [],
   "source": [
    "!find data/ -name stdout* -exec bash -c \"grep -E 'Local sphere count|Ghost spheres count|Local Morton blocks count|Process local detected collisions|Total detected collisions' {} /dev/null\" \\; > data/bench_collision_counts.txt"
   ]
  },
  {
   "cell_type": "code",
   "execution_count": null,
   "metadata": {},
   "outputs": [],
   "source": [
    "counts = {'  Local sphere count ':{}, \n",
    "          '  Local Morton blocks count ':{},\n",
    "          '  Ghost spheres count ':{},\n",
    "          'Process local detected collisions ':{},\n",
    "          'Total detected collisions ':{} }\n",
    "for line in open(\"data/bench_collision_counts.txt\"):\n",
    "    nb_proc,size,rank,name,count = re.match(filename_regex+\"(.*):\\s*(\\d*).*\", line).groups()\n",
    "    count = int(count)\n",
    "    nb_proc = int(nb_proc)\n",
    "    size = int(size)\n",
    "    rank = int(rank)\n",
    "    counts[name][nb_proc,size,rank] = count\n",
    "\n",
    "local_ghosts = counts['  Ghost spheres count ']\n",
    "local_sp = counts['  Local sphere count ']\n",
    "local_morton = counts['  Local Morton blocks count ']\n",
    "local_collision = counts['Process local detected collisions ']\n",
    "global_collision = counts['Total detected collisions ']"
   ]
  },
  {
   "cell_type": "markdown",
   "metadata": {},
   "source": [
    "## Plots"
   ]
  },
  {
   "cell_type": "markdown",
   "metadata": {},
   "source": [
    "### Nombre de sphères"
   ]
  },
  {
   "cell_type": "code",
   "execution_count": null,
   "metadata": {},
   "outputs": [],
   "source": [
    "def get_counts( size ):\n",
    "    sp_max = np.array([ max( [local_sp[p,size(p),r] for r in range(p)] ) for p in list_nb_procs ])\n",
    "    sp_min = np.array([ min( [local_sp[p,size(p),r] for r in range(p)] ) for p in list_nb_procs ])\n",
    "    sp_total = np.array([ sum( [local_sp[p,size(p),r] for r in range(p)] ) for p in list_nb_procs ])\n",
    "    ghost_max = np.array([ max( [local_ghosts[p,size(p),r] for r in range(p)] ) for p in list_nb_procs ])\n",
    "    ghost_min = np.array([ min( [local_ghosts[p,size(p),r] for r in range(p)] ) for p in list_nb_procs ])\n",
    "    ghost_total = np.array([ sum( [local_ghosts[p,size(p),r] for r in range(p)] ) for p in list_nb_procs ])\n",
    "    ghost_prop_max = np.array([ max( [local_ghosts[p,size(p),r]/local_sp[p,size(p),r] for r in range(p)] ) for p in list_nb_procs ])\n",
    "    ghost_prop_min = np.array([ min( [local_ghosts[p,size(p),r]/local_sp[p,size(p),r] for r in range(p)] ) for p in list_nb_procs ])\n",
    "    ghost_prop_mean = ghost_total/sp_total\n",
    "    return sp_min, sp_max, sp_total, ghost_min, ghost_max, ghost_total, ghost_prop_min, ghost_prop_max, ghost_prop_mean\n",
    "    \n",
    "def plot_sp_count( sp_min, sp_max, sp_total ):\n",
    "    plt.plot( list_nb_procs, sp_max, \"d-\", label='Max' )\n",
    "    plt.plot( list_nb_procs, sp_total/list_nb_procs, \"d-\", label='Moyenne' )\n",
    "    plt.plot( list_nb_procs, sp_min, \"d-\", label='Min' )\n",
    "    plt.ylabel(\"Nombre de sphères par processus MPI\")\n",
    "    plt.ylim(0)\n",
    "    plt.xscale('log',basex=2)\n",
    "    xaxis_mpi()\n",
    "\n",
    "def plot_sp_inbalance( sp_min, sp_max, sp_total ):   \n",
    "    plt.plot( list_nb_procs, 100*((sp_max*list_nb_procs)-sp_total)/sp_total    , \"d-\", label='Max' )\n",
    "    plt.plot( list_nb_procs, 100*((sp_min*list_nb_procs)-sp_total)/sp_total     , \"d-\", label='Min')\n",
    "    plt.ylabel(\"Inbalance : $(N_{local}-N_{moyen})/N_{moyen}$ (\\%)\")\n",
    "    plt.xscale('log',basex=2)\n",
    "    plt.ylim([-1,1])\n",
    "    xaxis_mpi()\n",
    "\n",
    "def plot_ghost_count( ghost_min, ghost_max, ghost_total ):\n",
    "    plt.plot( list_nb_procs, ghost_max, \"d-\", label='Max' )\n",
    "    plt.plot( list_nb_procs, ghost_total/list_nb_procs, \"d-\", label='Moyenne' )\n",
    "    plt.plot( list_nb_procs, ghost_min, \"d-\", label='Min' )\n",
    "    plt.ylabel(\"Nombre de ghosts par processus MPI\")\n",
    "    plt.ylim(0)\n",
    "    plt.xscale('log',basex=2)\n",
    "    xaxis_mpi()\n",
    "\n",
    "def plot_ghost_percent( ghost_prop_min, ghost_prop_max, ghost_prop_mean ):\n",
    "    plt.plot( list_nb_procs, 100*ghost_prop_max, \"d-\", label='Max' )\n",
    "    plt.plot( list_nb_procs, 100*ghost_prop_mean, \"d-\", label='Moyenne' )\n",
    "    plt.plot( list_nb_procs, 100*ghost_prop_min, \"d-\", label='Min')\n",
    "    plt.ylabel(\"Ghosts/Total (\\%)\")\n",
    "    plt.xscale('log',basex=2)\n",
    "    plt.ylim([0,20])\n",
    "    xaxis_mpi()    \n",
    "    \n",
    "def plot_counts(size):\n",
    "    plt.figure(figsize=(0.66*textwidth, 2*figheight))\n",
    "    \n",
    "    sp_min, sp_max, sp_total, ghost_min, ghost_max, ghost_total, ghost_prop_min, ghost_prop_max, ghost_prop_mean = get_counts(size)\n",
    "    \n",
    "    plt.subplot(221)\n",
    "    plot_sp_count( sp_min, sp_max, sp_total )\n",
    "    plt.title(\"Nombre de sphères par MPI\")\n",
    "    plt.legend()\n",
    "    \n",
    "    plt.subplot(222)\n",
    "    plot_sp_inbalance( sp_min, sp_max, sp_total )\n",
    "    plt.title(\"Load balancing\")\n",
    "    plt.legend()\n",
    "    \n",
    "    plt.subplot(223)\n",
    "    plot_ghost_count( ghost_min, ghost_max, ghost_total )\n",
    "    plt.title(\"Nombre de ghosts par MPI\")\n",
    "    plt.legend()\n",
    "    \n",
    "    plt.subplot(224)\n",
    "    plot_ghost_percent( ghost_prop_min, ghost_prop_max, ghost_prop_mean )\n",
    "    plt.title(\"Proportion de ghosts\")\n",
    "    plt.legend()\n",
    "    \n",
    "    plt.tight_layout()\n",
    "    plt.show()"
   ]
  },
  {
   "cell_type": "markdown",
   "metadata": {},
   "source": [
    "### Temps"
   ]
  },
  {
   "cell_type": "code",
   "execution_count": null,
   "metadata": {},
   "outputs": [],
   "source": [
    "def extract_times( size ):\n",
    "    ts_total_max={}\n",
    "    ts_total_min={}\n",
    "    for name in list_names:\n",
    "        ts_total_max[name] = np.array([ max([ t_total[p,size(p),rank,name] for rank in range(p) ]) for p in list_nb_procs ])\n",
    "        ts_total_min[name] = np.array([ min([ t_total[p,size(p),rank,name] for rank in range(p) ]) for p in list_nb_procs ])\n",
    "    return ts_total_min, ts_total_max"
   ]
  },
  {
   "cell_type": "code",
   "execution_count": null,
   "metadata": {},
   "outputs": [],
   "source": [
    "def plot_times_multiple( ts_min, ts_max ):\n",
    "    plt.figure(figsize=(textwidth, 3*figheight))\n",
    "    i=1\n",
    "    for name in list_names:\n",
    "        plt.subplot(3,3,i)\n",
    "        line, = plt.plot( list_nb_procs, ts_max[name], 'd-', label='Max' )\n",
    "        plt.plot( list_nb_procs, ts_min[name], 'd--', color=line.get_color(), label='Min' )    \n",
    "        plt.title( timers_labels[name] ) \n",
    "        #plt.xscale('log',basex=2)\n",
    "        plt.ylim(0)\n",
    "        plt.ylabel('Temps (s)')\n",
    "        xaxis_mpi()\n",
    "        i=i+1  \n",
    "    plt.tight_layout()\n",
    "    plt.legend(loc='center left', bbox_to_anchor=(1.5,0.5))\n",
    "    plt.show()\n",
    "\n",
    "def plot_times_all( ts_max ):\n",
    "    names_to_plot = [ 'Collision.Prepare', 'Collision.Detect', 'Collision.Handle']\n",
    "    plt.figure(figsize=(0.33*textwidth, figheight))\n",
    "    for name in reversed(names_to_plot):\n",
    "        line, = plt.plot( list_nb_procs, ts_max[name], 'd-', label=timers_labels[name] )\n",
    "    #plt.yscale('log')\n",
    "    plt.ylim(0)\n",
    "    plt.ylabel('Temps (s)')\n",
    "    xaxis_mpi()\n",
    "    plt.legend()\n",
    "    plt.show()\n",
    "    \n",
    "def plot_times_accumulated( ts_max ):  \n",
    "    plt.figure(figsize=(0.33*textwidth, figheight))\n",
    "    names_to_plot = [ 'Collision.Prepare', 'Collision.Detect', 'Collision.Handle']\n",
    "    names_to_plot = sorted(names_to_plot, key=lambda n : ts_max[n][-1])\n",
    "\n",
    "    times_tot = ts_max[name_total]\n",
    "    times=[ ts_max[name] for name in names_to_plot ]\n",
    "    times_rem = times_tot - np.sum( times, axis=0 )\n",
    "    times = [np.zeros(len(times[0])),times_rem] + times\n",
    "    times_sum = np.cumsum(times,axis=0)\n",
    "    labels = [ timers_labels[name] for name in ['Autres'] + names_to_plot ]\n",
    "\n",
    "    for i in range(len(times_sum)-1,0,-1) :\n",
    "        plt.fill_between(list_nb_procs, times_sum[i-1], times_sum[i], alpha=0.7, label=labels[i-1])\n",
    "    plt.plot(list_nb_procs, times_sum[i])\n",
    "\n",
    "    plt.plot(list_nb_procs,ts_max[name_total], '-d', label='Temps total')\n",
    "\n",
    "    #plt.yscale('log')\n",
    "    plt.xscale('log',basex=2)\n",
    "    plt.grid(linestyle=\"--\", color='black')\n",
    "    #plt.ylim([0,200])\n",
    "    plt.ylim(0)\n",
    "    plt.ylabel('Temps accumulé (s)')\n",
    "    xaxis_mpi()\n",
    "    plt.legend()\n",
    "    plt.show()\n",
    "    \n",
    "def plot_times( size )  : \n",
    "    ts_min, ts_max = extract_times( size )\n",
    "    plot_times_multiple( ts_min, ts_max )\n",
    "    plot_times_accumulated(ts_max)\n",
    "    plot_times_all(ts_max)"
   ]
  },
  {
   "cell_type": "markdown",
   "metadata": {},
   "source": [
    "### Efficacité"
   ]
  },
  {
   "cell_type": "code",
   "execution_count": null,
   "metadata": {},
   "outputs": [],
   "source": [
    "def t_perfect (ts, size) :\n",
    "    return np.array([ts[0]*(size(p)/size(1))/p for p in list_nb_procs])\n",
    "\n",
    "def plot_efficiency_multiple( ts_min, ts_max, size ) :\n",
    "    plt.figure(figsize=(textwidth, 3*figheight))\n",
    "    i=1\n",
    "    for name in list_names:\n",
    "        plt.subplot(3,3,i)\n",
    "        plt.title( timers_labels[name] )\n",
    "        line, = plt.plot( list_nb_procs, 100*t_perfect(ts_max[name],size)/ts_max[name], 'd-', label=\"Max\" )\n",
    "        plt.plot( list_nb_procs, 100*t_perfect(ts_min[name],size)/ts_min[name], 'd--', color=line.get_color(), label='Min' )\n",
    "        i=i+1\n",
    "        plt.ylabel( 'Efficacité (\\%)' )\n",
    "        plt.xscale('log',basex=2)\n",
    "        xaxis_mpi()\n",
    "        plt.ylim(0)\n",
    "    plt.tight_layout()\n",
    "    plt.legend(loc='center left', bbox_to_anchor=(1.5,0.5))\n",
    "    plt.show()\n",
    "    \n",
    "def plot_efficiency_all( ts_max, size ) :\n",
    "    plt.figure(figsize=(0.33*textwidth, figheight))\n",
    "    i=1\n",
    "    for name in list_names:\n",
    "        line, = plt.plot( list_nb_procs, 100*t_perfect(ts_max[name],size)/ts_max[name], 'd-', label=timers_labels[name] )\n",
    "    plt.ylabel( 'Efficacité (\\%)' )\n",
    "    plt.xscale('log',basex=2)\n",
    "    xaxis_mpi()\n",
    "    plt.ylim(0)\n",
    "    plt.tight_layout()\n",
    "    plt.legend()\n",
    "    plt.show()\n",
    "    \n",
    "def plot_efficiency( size ):\n",
    "    ts_min, ts_max = extract_times( size )\n",
    "    plot_efficiency_multiple( ts_min, ts_max , size)\n",
    "    plot_efficiency_all( ts_max, size )"
   ]
  },
  {
   "cell_type": "markdown",
   "metadata": {},
   "source": [
    "# Benchmark"
   ]
  },
  {
   "cell_type": "markdown",
   "metadata": {},
   "source": [
    "## Weak scaling"
   ]
  },
  {
   "cell_type": "code",
   "execution_count": null,
   "metadata": {},
   "outputs": [],
   "source": [
    "def weak_scaling_size(p):\n",
    "    return p"
   ]
  },
  {
   "cell_type": "markdown",
   "metadata": {},
   "source": [
    "### Nombre de sphères"
   ]
  },
  {
   "cell_type": "code",
   "execution_count": null,
   "metadata": {
    "scrolled": false
   },
   "outputs": [],
   "source": [
    "plot_counts( weak_scaling_size )"
   ]
  },
  {
   "cell_type": "markdown",
   "metadata": {},
   "source": [
    "### Temps\n",
    "\n",
    "Ce sont les temps d'execution pour 100 itérations de PrismaticGlide "
   ]
  },
  {
   "cell_type": "code",
   "execution_count": null,
   "metadata": {},
   "outputs": [],
   "source": [
    "plot_times(weak_scaling_size)"
   ]
  },
  {
   "cell_type": "markdown",
   "metadata": {},
   "source": [
    "### Efficacité"
   ]
  },
  {
   "cell_type": "code",
   "execution_count": null,
   "metadata": {},
   "outputs": [],
   "source": [
    "plot_efficiency( weak_scaling_size )"
   ]
  },
  {
   "cell_type": "markdown",
   "metadata": {},
   "source": [
    "## Strong scaling"
   ]
  },
  {
   "cell_type": "code",
   "execution_count": null,
   "metadata": {},
   "outputs": [],
   "source": [
    "def strong_scaling_size(p):\n",
    "    return 16"
   ]
  },
  {
   "cell_type": "markdown",
   "metadata": {},
   "source": [
    "### Nombre de sphères"
   ]
  },
  {
   "cell_type": "code",
   "execution_count": null,
   "metadata": {
    "scrolled": false
   },
   "outputs": [],
   "source": [
    "plot_counts( strong_scaling_size )"
   ]
  },
  {
   "cell_type": "markdown",
   "metadata": {},
   "source": [
    "### Temps\n",
    "\n",
    "Ce sont les temps d'execution pour 100 itérations de PrismaticGlide "
   ]
  },
  {
   "cell_type": "code",
   "execution_count": null,
   "metadata": {},
   "outputs": [],
   "source": [
    "plot_times(strong_scaling_size)"
   ]
  },
  {
   "cell_type": "markdown",
   "metadata": {},
   "source": [
    "### Efficacité"
   ]
  },
  {
   "cell_type": "code",
   "execution_count": null,
   "metadata": {},
   "outputs": [],
   "source": [
    "plot_efficiency( strong_scaling_size )"
   ]
  }
 ],
 "metadata": {
  "kernelspec": {
   "display_name": "Python 3",
   "language": "python",
   "name": "python3"
  },
  "language_info": {
   "codemirror_mode": {
    "name": "ipython",
    "version": 3
   },
   "file_extension": ".py",
   "mimetype": "text/x-python",
   "name": "python",
   "nbconvert_exporter": "python",
   "pygments_lexer": "ipython3",
   "version": "3.6.5"
  }
 },
 "nbformat": 4,
 "nbformat_minor": 2
}
