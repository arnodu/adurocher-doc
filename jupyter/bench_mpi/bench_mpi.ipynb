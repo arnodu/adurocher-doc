{
 "cells": [
  {
   "cell_type": "code",
   "execution_count": null,
   "metadata": {},
   "outputs": [],
   "source": [
    "import matplotlib.pyplot as plt\n",
    "textwidth = 15\n",
    "figheight = 0.25*textwidth\n",
    "plt.rcParams[\"figure.figsize\"] = (0.66*textwidth,figheight)\n",
    "plt.rcParams['text.latex.unicode']=True\n",
    "plt.rc('text', usetex=True)\n",
    "plt.rc('font', family='serif')\n",
    "plt.rc('grid', linestyle=\"--\")\n",
    "plt.rc('grid', alpha=\"0.5\")\n",
    "plt.rc('axes', grid=True)\n",
    "\n",
    "import numpy as np\n",
    "import re\n",
    "\n",
    "!mkdir fig\n",
    "\n",
    "def xaxis_mpi():\n",
    "    #plt.xscale('log',basex=2)\n",
    "    plt.gca().set_xticks([1,2,4,8,16,32,64])\n",
    "    plt.xlim([1,64])\n",
    "    plt.xlabel(\"Nombre de processus MPI\")\n",
    "    plt.gca().xaxis.set_major_formatter(plt.FormatStrFormatter('%d'))"
   ]
  },
  {
   "cell_type": "markdown",
   "metadata": {},
   "source": [
    "#### Parse timers"
   ]
  },
  {
   "cell_type": "code",
   "execution_count": null,
   "metadata": {},
   "outputs": [],
   "source": [
    "!find data/ -name stdout_optidis_* -exec bash -c \"grep 'Timer' {} /dev/null | tail -n 17\" \\; > data/last_timers.txt"
   ]
  },
  {
   "cell_type": "code",
   "execution_count": null,
   "metadata": {
    "scrolled": false
   },
   "outputs": [],
   "source": [
    "filename_regex = \".*stdout_optidis_p(\\d*)_s(\\d*)_h(\\d*)\\.1\\.(\\d*):\"\n",
    "t_last={}\n",
    "t_total={}\n",
    "for line in open(\"data/last_timers.txt\"):\n",
    "    nb_proc,size,tree_h,rank,name,t_last_,t_total_ = re.match(filename_regex+\"Timer : (\\S*)\\s*Last :\\s*(\\d*.\\d*) ms   Total :\\s*(\\d*.\\d*) s\", line).groups()\n",
    "    nb_proc = int(nb_proc)\n",
    "    rank = int(rank)\n",
    "    size = int(size)\n",
    "    tree_h = int(tree_h)\n",
    "    t_last[nb_proc,rank,name,size,tree_h] = float(t_last_)\n",
    "    t_total[nb_proc,rank,name,size,tree_h] = float(t_total_)\n",
    "    \n",
    "list_nb_procs = sorted([a for a in set([ p for (p,r,n,s,h) in t_total.keys() ])])\n",
    "list_rank = sorted([a for a in set([ r for (p,r,n,s,h) in t_total.keys() ])])\n",
    "list_size = sorted([a for a in set([ s for (p,r,n,s,h) in t_total.keys() ])])\n",
    "list_names = sorted([a for a in set([ n for (p,r,n,s,h) in t_total.keys() ])])\n",
    "list_tree_h = sorted([a for a in set([ h for (p,r,n,s,h) in t_total.keys() ])])"
   ]
  },
  {
   "cell_type": "code",
   "execution_count": null,
   "metadata": {},
   "outputs": [],
   "source": [
    "timers_labels={}\n",
    "for name in list_names : \n",
    "    timers_labels[name] = name.translate(str.maketrans({\"_\":  r\"\\_\"}) )\n",
    "name_total = 'Global_Step'\n",
    "timers_labels[name_total] = 'Total'\n",
    "timers_labels['Autres'] = 'Autres'\n",
    "timers_labels['Force_internal'] = 'Forces'\n",
    "timers_labels['Mesh.Migrate'] = 'Migration'\n",
    "timers_labels['Main_IOoperation'] = 'IO'"
   ]
  },
  {
   "cell_type": "markdown",
   "metadata": {},
   "source": [
    "#### Parse object count"
   ]
  },
  {
   "cell_type": "code",
   "execution_count": null,
   "metadata": {},
   "outputs": [],
   "source": [
    "!find data/ -name stdout_optidis_* -exec bash -c \"grep 'Nodes :' {} /dev/null | tail -n 1\" \\; > data/total_count.txt\n",
    "!find data/ -name stdout_optidis_* -exec bash -c \"grep 'Nodes (local) :' {} /dev/null | tail -n 1\" \\; > data/local_count.txt"
   ]
  },
  {
   "cell_type": "code",
   "execution_count": null,
   "metadata": {},
   "outputs": [],
   "source": [
    "nodes_count_total={}\n",
    "for line in open(\"data/total_count.txt\"):\n",
    "    nb_proc,size,tree_h,rank,nodes_count_,seg_count_ = re.match(filename_regex+\"\\s*Nodes : (\\d*)\\s*Segments : (\\d*)\", line).groups()\n",
    "    size = int(size)\n",
    "    nodes_count_ = int(nodes_count_)\n",
    "    nodes_count_total[size]=nodes_count_    \n",
    "\n",
    "nodes_count_local={}\n",
    "for line in open(\"data/local_count.txt\"):\n",
    "    nb_proc,size,tree_h,rank,nodes_count_,seg_count_ = re.match(filename_regex+\"\\s*Nodes \\(local\\) : (\\d*)\\s*Segments \\(local\\) : (\\d*).*\", line).groups()\n",
    "    nb_proc = int(nb_proc)\n",
    "    rank = int(rank)\n",
    "    size = int(size)\n",
    "    nodes_count_ = int(nodes_count_)\n",
    "    nodes_count_local[nb_proc, rank, size]=nodes_count_  \n"
   ]
  },
  {
   "cell_type": "markdown",
   "metadata": {},
   "source": [
    "### Détection de la terminaison"
   ]
  },
  {
   "cell_type": "code",
   "execution_count": null,
   "metadata": {},
   "outputs": [],
   "source": [
    "!find data -name stdout_optidis_p*.0 -exec bash -c \"echo -n {}:; tail -n1 {}\" \\; > data/last_lines.txt\n",
    "!find data -name stdout_optidis_p*.00 -exec bash -c \"echo -n {}:; tail -n1 {}\" \\; >> data/last_lines.txt"
   ]
  },
  {
   "cell_type": "code",
   "execution_count": null,
   "metadata": {
    "scrolled": true
   },
   "outputs": [],
   "source": [
    "terminated={}\n",
    "for line in open(\"data/last_lines.txt\"):\n",
    "    nb_proc,size,tree_h,rank,last_line = re.match(filename_regex+\"(.*)\\s*\", line).groups()\n",
    "    terminated_ = (last_line == \"###\t\t\tPost processing ...\t\t\t###\")\n",
    "    terminated[int(nb_proc),int(size),int(tree_h)]=terminated_\n",
    "        \n",
    "    \n",
    "def terminated_value(i,j,h) :\n",
    "    val = terminated.get((list_nb_procs[i], list_size[j], h), 123)\n",
    "    if val == 123 : return 0\n",
    "    elif val == False : return -1\n",
    "    elif val == True : return 1\n",
    "    \n",
    "plt.figure(figsize=(textwidth, figheight))\n",
    "i=1\n",
    "for tree_h in list_tree_h :\n",
    "    plt.subplot(1,len(list_tree_h),i)\n",
    "    terminated_map = [[ terminated_value(i,j,tree_h) for i in range(len(list_nb_procs)) ] for j in range(len(list_size))]\n",
    "    plt.pcolormesh(terminated_map,cmap='RdYlGn')\n",
    "    plt.title(\"H = \"+str(tree_h))\n",
    "    plt.xlabel(\"Nb proc\")\n",
    "    plt.ylabel(\"Taille\")\n",
    "    ticks = np.arange(7)+0.5\n",
    "    ax = plt.gca()\n",
    "    ax.set_xticks(ticks)\n",
    "    ax.set_yticks(ticks)\n",
    "    ax.set_xticklabels(list_nb_procs)\n",
    "    ax.set_yticklabels(list_size)\n",
    "    i=i+1\n",
    "plt.suptitle(\"Carte de terminaison des runs\")\n",
    "plt.show()"
   ]
  },
  {
   "cell_type": "markdown",
   "metadata": {},
   "source": [
    "# Benchmark"
   ]
  },
  {
   "cell_type": "markdown",
   "metadata": {},
   "source": [
    "## Weak scaling"
   ]
  },
  {
   "cell_type": "markdown",
   "metadata": {},
   "source": [
    "### Nombre d'objets"
   ]
  },
  {
   "cell_type": "code",
   "execution_count": null,
   "metadata": {},
   "outputs": [],
   "source": [
    "#Extract weak scaling counts\n",
    "total_nodes_count_weak = np.array([ nodes_count_total[p] for p in list_nb_procs ])\n",
    "local_node_count_max_weak = np.array([ max([ nodes_count_local[p,rank,p] for rank in range(p) ]) for p in list_nb_procs ])\n",
    "local_node_count_min_weak = np.array([ min([ nodes_count_local[p,rank,p] for rank in range(p) ]) for p in list_nb_procs ])"
   ]
  },
  {
   "cell_type": "code",
   "execution_count": null,
   "metadata": {},
   "outputs": [],
   "source": [
    "plt.figure(figsize=(0.66*textwidth, figheight))\n",
    "plt.subplot(121)\n",
    "plt.plot( list_nb_procs, local_node_count_max_weak    , \"d-\", label='Max' )\n",
    "plt.plot( list_nb_procs, total_nodes_count_weak/list_nb_procs, \"d-\", label='Moyenne' )\n",
    "plt.plot( list_nb_procs, local_node_count_min_weak     , \"d-\", label='Min' )\n",
    "plt.title(\"Nombre de noeuds par MPI\")\n",
    "plt.ylabel(\"Nombre de noeuds par processus MPI\")\n",
    "plt.ylim(0)\n",
    "plt.xscale('log',basex=2)\n",
    "xaxis_mpi()\n",
    "\n",
    "\n",
    "plt.subplot(122)\n",
    "plt.plot( list_nb_procs, 100*((local_node_count_max_weak*list_nb_procs)-total_nodes_count_weak)/total_nodes_count_weak    , \"d-\", label='Max' )\n",
    "plt.plot( list_nb_procs, 100*((local_node_count_min_weak*list_nb_procs)-total_nodes_count_weak)/total_nodes_count_weak     , \"d-\", label='Min' )\n",
    "plt.title(\"Load balancing\")\n",
    "plt.ylabel(\"Inbalance : $(N_{local}-N_{moyen})/N_{moyen}$ (\\%)\")\n",
    "plt.xscale('log',basex=2)\n",
    "plt.ylim([-1,1])\n",
    "xaxis_mpi()\n",
    "\n",
    "plt.legend(bbox_to_anchor=(1,0.5), loc='center left')\n",
    "plt.tight_layout()\n",
    "plt.show()\n"
   ]
  },
  {
   "cell_type": "markdown",
   "metadata": {},
   "source": [
    "### Temps\n",
    "\n",
    "Ce sont les temps d'execution pour 100 itérations de PrismaticGlide "
   ]
  },
  {
   "cell_type": "code",
   "execution_count": null,
   "metadata": {},
   "outputs": [],
   "source": [
    "def t_total_ended( p, rank, name, h ):\n",
    "    if not terminated[p,p,h]:\n",
    "        return float('inf')\n",
    "    else:\n",
    "        return t_total.get( (p,rank,name,p,h) , float('inf') );\n",
    "\n",
    "#Extract weak scaling times\n",
    "ts_total_max_weak={}\n",
    "ts_total_min_weak={}\n",
    "ts_total_best_weak={}\n",
    "for name in list_names:\n",
    "    for h in list_tree_h:\n",
    "        ts_total_max_weak[name,h] = np.array([ max([ t_total_ended( p, rank, name, h ) for rank in range(p) ]) for p in list_nb_procs ])\n",
    "        ts_total_min_weak[name,h] = np.array([ min([ t_total_ended( p, rank, name, h )for rank in range(p) ]) for p in list_nb_procs ])\n",
    "    ts_total_best_weak[name] = np.min( [ ts_total_max_weak[name,h] for h in list_tree_h ] , axis=0)\n",
    "    "
   ]
  },
  {
   "cell_type": "code",
   "execution_count": null,
   "metadata": {
    "scrolled": false
   },
   "outputs": [],
   "source": [
    "plt.figure(figsize=(textwidth, 5*figheight))\n",
    "i=1\n",
    "for name in list_names:\n",
    "    plt.subplot(6,3,i)\n",
    "    for h in list_tree_h:\n",
    "        line, = plt.plot( list_nb_procs, ts_total_max_weak[name,h], 'd-', label=\"H=\"+str(h) )\n",
    "        plt.plot( list_nb_procs, ts_total_min_weak[name,h], 'd--', color=line.get_color() )\n",
    "    plt.plot( list_nb_procs, ts_total_best_weak[name], 'd-', label=\"Best\" )\n",
    "    plt.title( timers_labels[name] ) \n",
    "    plt.xscale('log',basex=2)\n",
    "    plt.ylim(0)\n",
    "    plt.ylabel('Temps (s)')\n",
    "    xaxis_mpi()\n",
    "    i=i+1  \n",
    "\n",
    "plt.tight_layout()\n",
    "plt.legend(loc='center left', bbox_to_anchor=(1.5,0.5))\n",
    "\n",
    "\n",
    "plt.show()"
   ]
  },
  {
   "cell_type": "code",
   "execution_count": null,
   "metadata": {
    "scrolled": false
   },
   "outputs": [],
   "source": [
    "names_to_plot = [ 'Mesh.Migrate', 'Remesh', 'Force_internal', 'Collision' ]\n",
    "names_to_plot = sorted(names_to_plot, key=lambda n : ts_total_best_weak[n][-1])\n",
    "\n",
    "times_tot = ts_total_best_weak[name_total]\n",
    "times=[ ts_total_best_weak[name] for name in names_to_plot ]\n",
    "times_rem = times_tot - np.sum( times, axis=0 )\n",
    "times = [np.zeros(len(times[0])),times_rem] + times\n",
    "times_sum = np.cumsum(times,axis=0)\n",
    "labels = [ timers_labels[name] for name in ['Autres'] + names_to_plot ]\n",
    "\n",
    "plt.figure(figsize=(0.33*textwidth, figheight))\n",
    "for i in range(len(times_sum)-1,0,-1) :\n",
    "    plt.fill_between(list_nb_procs, times_sum[i-1], times_sum[i], alpha=0.7, label=labels[i-1])\n",
    "    plt.plot(list_nb_procs, times_sum[i])\n",
    "\n",
    "plt.plot(list_nb_procs,ts_total_best_weak[name_total], label='Temps total')\n",
    "\n",
    "#plt.yscale('log')\n",
    "#plt.xscale('log',basex=2)\n",
    "plt.grid(linestyle=\"--\", color='black')\n",
    "#plt.ylim([0,200])\n",
    "plt.ylim(0)\n",
    "plt.ylabel('Temps accumulé (s)')\n",
    "xaxis_mpi()\n",
    "plt.legend()\n",
    "plt.savefig(\"fig/bench_mpi_weak_times.pdf\", transparent=True, bbox_inches='tight')\n",
    "plt.show()"
   ]
  },
  {
   "cell_type": "markdown",
   "metadata": {},
   "source": [
    " *Figure* - Temps d'éxecution cumulés pour 100 itérations de PrismaticGlide avec ~77 000 segments/processus"
   ]
  },
  {
   "cell_type": "code",
   "execution_count": null,
   "metadata": {},
   "outputs": [],
   "source": [
    "plt.figure(figsize=(0.66*textwidth, 2*figheight))\n",
    "for name in reversed(names_to_plot):\n",
    "    line, = plt.plot( list_nb_procs, ts_total_best_weak[name], 'd-', label=timers_labels[name] )\n",
    "    #plt.plot( list_nb_procs, ts_total_min[name], 'd--', color=line.get_color(), label=name.translate(str.maketrans({\"_\":  r\"\\_\"}) ) )\n",
    "#plt.xscale('log',basex=2)\n",
    "#plt.yscale('log')\n",
    "plt.ylim(1)\n",
    "plt.ylabel('Temps (s)')\n",
    "xaxis_mpi()\n",
    "plt.legend(bbox_to_anchor=(1,0.5), loc='center left')\n",
    "plt.show()"
   ]
  },
  {
   "cell_type": "markdown",
   "metadata": {},
   "source": [
    " *Figure* - Temps d'éxecution de différentes étapes de la simulation pour 100 itérations de PrismaticGlide avec ~77 000 segments/processus"
   ]
  },
  {
   "cell_type": "markdown",
   "metadata": {},
   "source": [
    "### Efficacité"
   ]
  },
  {
   "cell_type": "code",
   "execution_count": null,
   "metadata": {},
   "outputs": [],
   "source": [
    "def plot_efficiency_full( name ) :\n",
    "    for h in list_tree_h:\n",
    "        line, = plt.plot( list_nb_procs, 100*ts_total_max_weak[name,h][0]/ts_total_max_weak[name,h], 'd-', label=\"H=\"+str(h)+\" (min)\" )\n",
    "        plt.plot( list_nb_procs, 100*ts_total_min_weak[name,h][0]/ts_total_min_weak[name,h], 'd--', color=line.get_color(), label=\"H=\"+str(h)+\" (max)\" )\n",
    "    plt.plot( list_nb_procs, 100*ts_total_best_weak[name][0]/ts_total_best_weak[name], 'd-', label=\"Best\" )\n",
    "\n",
    "    plt.ylabel( 'Efficacité (\\%)' )\n",
    "    plt.xscale('log',basex=2)\n",
    "    xaxis_mpi()\n",
    "    plt.ylim([0,110])\n",
    "\n",
    "def plot_efficiency( name ) :\n",
    "    label = timers_labels[name];\n",
    "    plt.plot( list_nb_procs, 100*ts_total_best_weak[name][0]/ts_total_best_weak[name], 'd-', label=label )\n",
    "    plt.ylabel( 'Efficacité (\\%)' )\n",
    "    plt.xscale('log',basex=2)\n",
    "    xaxis_mpi()\n",
    "    plt.ylim([0,110])\n",
    "    \n",
    "\n",
    "plt.figure(figsize=(textwidth, 5*figheight))\n",
    "i=1\n",
    "for name in list_names:\n",
    "    plt.subplot(6,3,i)\n",
    "    plt.title( timers_labels[name] )\n",
    "    plot_efficiency_full(name) \n",
    "    i=i+1\n",
    "plt.tight_layout() \n",
    "plt.legend( bbox_to_anchor = (1.5,0.5), loc='center left' )\n",
    "plt.show()"
   ]
  },
  {
   "cell_type": "code",
   "execution_count": null,
   "metadata": {},
   "outputs": [],
   "source": [
    "plt.figure(figsize=(0.33*textwidth, figheight))\n",
    "for name in reversed(names_to_plot):\n",
    "    plot_efficiency(name)\n",
    "plot_efficiency(name_total)\n",
    "plt.legend()\n",
    "plt.savefig(\"fig/bench_mpi_weak_eff.pdf\", transparent=True, bbox_inches='tight')\n",
    "plt.show()"
   ]
  },
  {
   "cell_type": "code",
   "execution_count": null,
   "metadata": {},
   "outputs": [],
   "source": [
    "plt.figure(figsize=(0.33*textwidth, figheight))\n",
    "plot_efficiency(name_total)\n",
    "plt.legend()\n",
    "plt.show()"
   ]
  },
  {
   "cell_type": "markdown",
   "metadata": {},
   "source": [
    "## Strong Scaling"
   ]
  },
  {
   "cell_type": "markdown",
   "metadata": {},
   "source": [
    "### Load balancing"
   ]
  },
  {
   "cell_type": "code",
   "execution_count": null,
   "metadata": {},
   "outputs": [],
   "source": [
    "size_strong=16\n",
    "total_nodes_count_strong = nodes_count_total[size_strong]\n",
    "local_node_count_max_strong = np.array([ max([ nodes_count_local[p,rank,size_strong] for rank in range(p) ]) for p in list_nb_procs ])\n",
    "local_node_count_min_strong = np.array([ min([ nodes_count_local[p,rank,size_strong] for rank in range(p) ]) for p in list_nb_procs ])"
   ]
  },
  {
   "cell_type": "code",
   "execution_count": null,
   "metadata": {},
   "outputs": [],
   "source": [
    "plt.figure(figsize=(0.66*textwidth, figheight))\n",
    "plt.subplot(121)\n",
    "plt.plot( list_nb_procs, local_node_count_max_strong    , \"d-\", label='Max' )\n",
    "plt.plot( list_nb_procs, total_nodes_count_strong/np.array(list_nb_procs) , \"d-\", label='Moyenne' )\n",
    "plt.plot( list_nb_procs, local_node_count_min_strong     , \"d-\", label='Min' )\n",
    "plt.title(\"Nombre de noeuds par MPI\")\n",
    "plt.ylabel(\"Nombre de noeuds par processus MPI\")\n",
    "plt.yscale('log')\n",
    "plt.xscale('log',basex=2)\n",
    "plt.ylim(1)\n",
    "xaxis_mpi()\n",
    "\n",
    "plt.subplot(122)\n",
    "plt.plot( list_nb_procs, 100*((local_node_count_max_strong*list_nb_procs)-total_nodes_count_strong)/total_nodes_count_strong    , \"d-\", label='Max' )\n",
    "plt.plot( list_nb_procs, 100*((local_node_count_min_strong*list_nb_procs)-total_nodes_count_strong)/total_nodes_count_strong     , \"d-\", label='Min' )\n",
    "plt.title(\"Load balancing\")\n",
    "plt.ylabel(\"Différence du nombre de noeuds (\\%)\")\n",
    "plt.xscale('log',basex=2)\n",
    "plt.ylim([-1,1])\n",
    "xaxis_mpi()\n",
    "\n",
    "plt.legend(bbox_to_anchor=(1,0.5), loc='center left')\n",
    "plt.tight_layout()\n",
    "plt.show()"
   ]
  },
  {
   "cell_type": "markdown",
   "metadata": {},
   "source": [
    "### Temps"
   ]
  },
  {
   "cell_type": "code",
   "execution_count": null,
   "metadata": {
    "scrolled": true
   },
   "outputs": [],
   "source": [
    "h_strong=9\n",
    "\n",
    "#list_nb_procs=[1,2,8,16,32,64]\n",
    "\n",
    "#Extract strong scaling times\n",
    "ts_total_max_strong={}\n",
    "ts_total_min_strong={}\n",
    "for name in list_names:\n",
    "    ts_total_max_strong[name] = np.array([ max([ t_total[p,rank,name,size_strong,h_strong] for rank in range(p) ]) for p in list_nb_procs ])\n",
    "    ts_total_min_strong[name] = np.array([ min([ t_total[p,rank,name,size_strong,h_strong] for rank in range(p) ]) for p in list_nb_procs ])"
   ]
  },
  {
   "cell_type": "code",
   "execution_count": null,
   "metadata": {
    "scrolled": false
   },
   "outputs": [],
   "source": [
    "plt.figure(figsize=(textwidth, 5*figheight))\n",
    "i=1\n",
    "for name in list_names:\n",
    "    plt.subplot(6,3,i)\n",
    "    line, = plt.plot( list_nb_procs, ts_total_max_strong[name], 'd-' )\n",
    "    plt.plot( list_nb_procs, ts_total_min_strong[name], 'd--', color=line.get_color() )\n",
    "    plt.title( timers_labels[name] ) \n",
    "    #plt.xscale('log',basex=2)\n",
    "    plt.ylim(0)\n",
    "    plt.ylabel('Temps (s)')\n",
    "    xaxis_mpi()\n",
    "    i=i+1  \n",
    "plt.tight_layout()\n",
    "\n",
    "plt.show()"
   ]
  },
  {
   "cell_type": "code",
   "execution_count": null,
   "metadata": {
    "scrolled": false
   },
   "outputs": [],
   "source": [
    "names_to_plot = [ 'Main_IOoperation','Mesh.Migrate', 'Remesh', 'Force_internal', 'Collision' ]\n",
    "names_to_plot = sorted(names_to_plot, key=lambda n : ts_total_max_strong[n][-1])\n",
    "\n",
    "times_tot = ts_total_max_strong[name_total]\n",
    "times=[ ts_total_max_strong[name] for name in names_to_plot ]\n",
    "times_rem = times_tot - np.sum( times, axis=0 )\n",
    "times = [np.zeros(len(times[0])),times_rem] + times\n",
    "times_sum = np.cumsum(times,axis=0)\n",
    "times_sum = times_sum*list_nb_procs\n",
    "labels = [ timers_labels[name] for name in ['Autres'] + names_to_plot ]\n",
    "\n",
    "plt.figure(figsize=(0.33*textwidth, figheight))\n",
    "for i in range(len(times_sum)-1,0,-1) :\n",
    "    plt.fill_between(list_nb_procs, times_sum[i-1], times_sum[i], alpha=0.7, label=labels[i-1])\n",
    "    plt.plot(list_nb_procs, times_sum[i])\n",
    "\n",
    "plt.plot(list_nb_procs,ts_total_max_strong[name_total]*list_nb_procs, label='Temps total')\n",
    "\n",
    "#plt.yscale('log')\n",
    "plt.xscale('log',basex=2)\n",
    "plt.grid(linestyle=\"--\", color='black')\n",
    "#plt.ylim([0,200])\n",
    "plt.ylim(0)\n",
    "plt.ylabel('Temps accumulé (Somme des temps MPI) (s)')\n",
    "xaxis_mpi()\n",
    "plt.legend()\n",
    "plt.show()"
   ]
  },
  {
   "cell_type": "code",
   "execution_count": null,
   "metadata": {
    "scrolled": false
   },
   "outputs": [],
   "source": [
    "plt.figure(figsize=(0.66*textwidth, 2*figheight))\n",
    "for name in reversed(names_to_plot):\n",
    "    line, = plt.plot( list_nb_procs, ts_total_max_strong[name], 'd-', label=timers_labels[name] )\n",
    "    #plt.plot( list_nb_procs, ts_total_min_strong[name], 'd--', color=line.get_color(), label=name.translate(str.maketrans({\"_\":  r\"\\_\"}) ) )\n",
    "#plt.xscale('log',basex=2)\n",
    "#plt.yscale('log')\n",
    "plt.ylim(1)\n",
    "plt.ylabel('Temps (s)')\n",
    "xaxis_mpi()\n",
    "plt.legend(bbox_to_anchor=(1,0.5), loc='center left')\n",
    "plt.show()"
   ]
  },
  {
   "cell_type": "markdown",
   "metadata": {},
   "source": [
    "### Efficacité"
   ]
  },
  {
   "cell_type": "code",
   "execution_count": null,
   "metadata": {},
   "outputs": [],
   "source": [
    "def plot_efficiency_strong( name, plot_max=True, label=None ) :\n",
    "    if label == None :\n",
    "        label = timers_labels[name];\n",
    "    label_min = label\n",
    "    if plot_max :\n",
    "        label_min = label_min + ' (min)'\n",
    "    line, = plt.plot( list_nb_procs, 100*(ts_total_max_strong[name][0]/list_nb_procs)/ts_total_max_strong[name], 'd-', label=label_min )\n",
    "    if plot_max:\n",
    "        plt.plot( list_nb_procs, 100*(ts_total_min_strong[name][0]/list_nb_procs)/ts_total_min_strong[name], 'd--', color=line.get_color(), label=label+' (max)' )\n",
    "    plt.ylabel( 'Efficacité (\\%)' )\n",
    "    plt.xscale('log',basex=2)\n",
    "    xaxis_mpi()\n",
    "    plt.ylim([0,110])\n",
    "    \n",
    "\n",
    "plt.figure(figsize=(textwidth, 5*figheight))\n",
    "i=1\n",
    "for name in list_names:\n",
    "    plt.subplot(6,3,i)\n",
    "    plt.title( timers_labels[name] )\n",
    "    plot_efficiency_strong(name, label=\"Efficacité\")\n",
    "    if i==2 :\n",
    "        plt.legend( bbox_to_anchor = (0.5,1.1), loc='lower center' )\n",
    "    i=i+1\n",
    "plt.tight_layout()  \n",
    "plt.show()"
   ]
  },
  {
   "cell_type": "code",
   "execution_count": null,
   "metadata": {},
   "outputs": [],
   "source": [
    "plt.figure(figsize=(0.66*textwidth, figheight))\n",
    "plt.subplot(121)\n",
    "for name in reversed(names_to_plot):\n",
    "    plot_efficiency_strong(name, plot_max=False)\n",
    "plt.legend()\n",
    "\n",
    "plt.subplot(122)\n",
    "plot_efficiency_strong(name_total, plot_max=False)\n",
    "plt.legend()\n",
    "\n",
    "plt.show()"
   ]
  }
 ],
 "metadata": {
  "kernelspec": {
   "display_name": "Python 3",
   "language": "python",
   "name": "python3"
  },
  "language_info": {
   "codemirror_mode": {
    "name": "ipython",
    "version": 3
   },
   "file_extension": ".py",
   "mimetype": "text/x-python",
   "name": "python",
   "nbconvert_exporter": "python",
   "pygments_lexer": "ipython3",
   "version": "3.6.5"
  }
 },
 "nbformat": 4,
 "nbformat_minor": 2
}
