{
 "cells": [
  {
   "cell_type": "code",
   "execution_count": null,
   "metadata": {},
   "outputs": [],
   "source": [
    "import matplotlib.pyplot as plt\n",
    "textwidth = 15\n",
    "figheight = 0.25*textwidth\n",
    "plt.rcParams[\"figure.figsize\"] = (0.66*textwidth,figheight)\n",
    "plt.rcParams['text.latex.unicode']=True\n",
    "plt.rc('text', usetex=True)\n",
    "plt.rc('font', family='serif')\n",
    "plt.rc('grid', linestyle=\"--\")\n",
    "plt.rc('grid', alpha=\"0.5\")\n",
    "plt.rc('axes', grid=True)\n",
    "\n",
    "import numpy as np\n",
    "import re\n",
    "\n",
    "!mkdir fig"
   ]
  },
  {
   "cell_type": "markdown",
   "metadata": {},
   "source": [
    "# Benchmarks structure de données\n",
    "## Conditions \n",
    "\n",
    "### Machine de test\n",
    "\n",
    "https://groupes.renater.fr/wiki/poincare/public/description_de_poincare\n",
    "\n",
    "### Benchmark\n",
    "\n",
    "le benchmark ** bench_mesh ** est executé en faisant varier :\n",
    "* nb_proc : nombre de processus MPI\n",
    "* nb_threads : pour les executions avec 1 processus MPI, on utilise 1, 8, ou 16 coeurs, lorsqu'il y a plusieurs processus MPI, on se contente de 8 coeurs (1 socket)\n",
    "* Taille des données : on fait varier le nombre d'éléments pour 1e5, les données tiennent en cache, mais pas pour 1e6 elements \n",
    "\n",
    "On y mesure les performances de différents algorithmes de parcours:\n",
    "* Stream : Parcours de référence utilisant des std::vectors simples\n",
    "* Nodes : Parcours des noeuds en utilisant container::MeshHelper::foreach_nodes\n",
    "* Nodes with Segs : Parcours des noeuds avec segment connectés en utilisant container::MeshHelper::foreach_nodesWithSegs\n",
    "* Segs with Nodes : Parcours des segments avec noeuds connectés en utilisant container::MeshHelper::foreach_segsWithNodes\n",
    "\n",
    "'Nodes with Segs' et 'Segs with Nodes' doivent utiliser des données distantes en MPI. Deux variantes existent pour les benchmarks MPI :\n",
    "* Avec communications MPI : toutes les données concernant les objets distants sont échangées avant chaque parcours.\n",
    "* Sans communications MPI : On suppose que les données concernant les objets distants sont à jours dans le cache, et l'échange MPI n'est pas nécéssaire\n",
    "\n",
    "Le benchmark mesure le temps d'execution de 4 parcours. ** bench_mesh ** crée un ficher avec pour nom out_p<nb_proc>_r<rang>_t<nb_threads>_s<size> :"
   ]
  },
  {
   "cell_type": "code",
   "execution_count": null,
   "metadata": {},
   "outputs": [],
   "source": [
    "!cat data/out_p1_r0_t8_s1e+05"
   ]
  },
  {
   "cell_type": "markdown",
   "metadata": {},
   "source": [
    "## Extraire les données"
   ]
  },
  {
   "cell_type": "code",
   "execution_count": null,
   "metadata": {},
   "outputs": [],
   "source": [
    "!grep -r ':' data/out_* > data/mesh_iterate_data.txt\n",
    "\n",
    "res_matrix={}\n",
    "flops_count={}\n",
    "loadstore_size={}\n",
    "\n",
    "for line in open(\"data/mesh_iterate_data.txt\"):\n",
    "    nb_proc,rank,threads,size,name,t1,t2,t3,t4,t5,t6,t7,t8,t9,t10 = re.match(\".*out_p(\\d*)_r(\\d*)_t(\\d*)_s(\\d*e\\+\\d*):\\s*([^:]*):\\s*(\\d*.\\d*)\\s*(\\d*.\\d*)\\s*(\\d*.\\d*)\\s*(\\d*.\\d*)\\s*(\\d*.\\d*)\\s*(\\d*.\\d*)\\s*(\\d*.\\d*)\\s*(\\d*.\\d*)\\s*(\\d*.\\d*)\\s*(\\d*.\\d*)\", line).groups()\n",
    "    ts = np.array([t1,t2,t3,t4,t5,t6,t7,t8,t9,t10],dtype='f')\n",
    "    rank=int(rank)\n",
    "    nb_proc=int(nb_proc)\n",
    "    threads=int(threads)\n",
    "    if name == 'Compute (MFlops)' :\n",
    "        flops_count[size,nb_proc] = ts\n",
    "    elif name == 'load/store (MBytes)' :\n",
    "        loadstore_size[size,nb_proc] = ts\n",
    "    else :\n",
    "        res_matrix[nb_proc,rank,threads,size,name] = ts\n",
    "\n",
    "list_nb_procs = sorted([a for a in set([ p for (p,r,t,s,n) in  res_matrix.keys() ])])\n",
    "list_threads = sorted([a for a in set([ t for (p,r,t,s,n) in  res_matrix.keys() ])])\n",
    "list_sizes = sorted([a for a in set([ s for (p,r,t,s,n) in  res_matrix.keys() ])])\n",
    "list_names = [a for a in set([ n for (p,r,t,s,n) in  res_matrix.keys() ])]\n",
    "\n",
    "label_names = {}\n",
    "label_names['Stream'] = \"Tableaux simples\"\n",
    "label_names['Nodes'] = \"Nœuds\"\n",
    "label_names['Segs with Nodes'] = \"Segments + Nœuds connectés\"\n",
    "label_names['Nodes with Segs'] = \"Nœuds + Segments connectés\"\n",
    "label_names['Segs with Nodes (nompi)'] = \"Segments + Nœuds connectés (sans MPI)\"\n",
    "label_names['Nodes with Segs (nompi)'] = \"Nœuds + Segments connectés (sans MPI)\""
   ]
  },
  {
   "cell_type": "markdown",
   "metadata": {},
   "source": [
    "## Benchmarks OpenMP\n",
    "\n",
    "### Mesures Roofline\n",
    "\n",
    "Les bandes passantes RAM sont mesurées avec le benchmark STREAM (triad) sur 1, 8, et 16 coeurs\n",
    "* 1 coeur : 14.0Go/s\n",
    "* 1 noeud NUMA (8 coeurs): 29.9Go/s\n",
    "* 1 noeud complet (16 coeurs) : 59,5Go/s\n",
    "\n",
    "Les puissance de calcul crète (GFlops/s) est la puissance théorique du processeur :\n",
    "* 2.6 GHz \\* 2 ALU * 4 double/opération = 20.8 GFlops/s/coeur\n",
    "* 5.2 GFlops/s/coeur sans vectorisation"
   ]
  },
  {
   "cell_type": "code",
   "execution_count": null,
   "metadata": {},
   "outputs": [],
   "source": [
    "nb_threads=list_threads\n",
    "\n",
    "titles_threads = {nb_threads[0]:\"Single core\", nb_threads[1]:\"Numa Node\", nb_threads[2]:\"Full Node\"}\n",
    "bandwidth = { nb_threads[0]:14.0, nb_threads[1]:29.9, nb_threads[2]:59.5}\n",
    "peak = { nb_threads[0]:20.8, nb_threads[1]:166.4, nb_threads[2]:332.8}\n",
    "\n",
    "\n",
    "def plot_roofline(threads):\n",
    "    line = plt.axhline(y=peak[threads], linestyle='dashed', linewidth=1)\n",
    "    Is = np.array([1./8,16])\n",
    "    plt.axhline(y=peak[threads]/4, linestyle='dashed', linewidth=1, color=line.get_color())\n",
    "    plt.plot( Is, Is*bandwidth[threads], linestyle='dashed', linewidth=1, color=line.get_color() )\n",
    "    plt.xlabel( \"Intensité (Flops/Octet)\" )\n",
    "    plt.ylabel( \"Vitesse (GFlops/s)\" )\n",
    "    plt.xscale('log',basex=2)\n",
    "    plt.yscale('log')\n",
    "    plt.ylim([0.1,2000])\n",
    "    plt.xlim(Is)\n",
    "\n",
    "i=1\n",
    "plt.figure(figsize=(textwidth,figheight))\n",
    "for threads in titles_threads.keys():\n",
    "    plt.subplot(1, 3, i).title.set_text(\"Roofline : \" + titles_threads[threads])\n",
    "    plot_roofline(threads)\n",
    "    i=i+1\n",
    "\n",
    "plt.show()\n",
    "\n",
    "def plot_bandwidth(threads):\n",
    "    plt.axhline(y=bandwidth[threads], linestyle='dashed', linewidth=1)\n",
    "    plt.xlabel( \"Intensité (Flops/Octet)\" )\n",
    "    plt.ylabel( \"Bande passante (Go/s)\" )\n",
    "    plt.xscale('log',basex=2)\n",
    "    #plt.yscale('log')\n",
    "    plt.ylim(0)\n",
    "    Is = np.array([1./8,4])\n",
    "    plt.xlim(Is)\n",
    "i=1\n",
    "plt.figure(figsize=(textwidth,figheight))\n",
    "for threads in titles_threads.keys():\n",
    "    plt.subplot(1, 3, i).title.set_text(\"Bandwidth : \" + titles_threads[threads])\n",
    "    plot_bandwidth(threads)\n",
    "    i=i+1\n",
    "\n",
    "plt.show()\n"
   ]
  },
  {
   "cell_type": "markdown",
   "metadata": {},
   "source": [
    "### Mesures structure de données"
   ]
  },
  {
   "cell_type": "markdown",
   "metadata": {},
   "source": [
    "#### Roofline\n",
    "\n",
    "Le roofline model donne un apercu de l'efficacité du parcours des stuctures de données en affichant la performance maximale atteignable et en placant la performance mesurée sur un graphique.\n",
    "\n",
    "Les performances sont calculées sur la base des Flops **utiles** executées lors d'un parcours."
   ]
  },
  {
   "cell_type": "code",
   "execution_count": null,
   "metadata": {
    "scrolled": false
   },
   "outputs": [],
   "source": [
    "nb_proc=1\n",
    "rank=0\n",
    "\n",
    "#list_sizes = ['1e+05', '1e+06']\n",
    "list_names_nompi = [\"Stream\", \"Nodes\", \"Segs with Nodes\", \"Nodes with Segs\"]\n",
    "\n",
    "def plot_roofline_perf( threads, size ):\n",
    "    for name in list_names_nompi:\n",
    "        intensities = flops_count[size,nb_proc]/loadstore_size[size,nb_proc]\n",
    "        Gflopss = (flops_count[size,nb_proc]/res_matrix[nb_proc,rank,threads,size,name])*1000\n",
    "        plt.plot( intensities, Gflopss, 'd-', label=label_names[name], linewidth=1 )\n",
    "    plot_roofline(threads) \n",
    "    \n",
    "for threads in list_threads:\n",
    "    i=1\n",
    "    plt.suptitle(\"Roofline : \" + titles_threads[threads])\n",
    "    for size in list_sizes:        \n",
    "        subplt = plt.subplot(1, 2, i).title.set_text(size+\" Elements \")\n",
    "        plot_roofline_perf(threads, size) \n",
    "        i=i+1\n",
    "    plt.legend(loc='center left', bbox_to_anchor=(1, 0.5)) \n",
    "    plt.show()"
   ]
  },
  {
   "cell_type": "markdown",
   "metadata": {},
   "source": [
    "#### Bande passante\n",
    "\n",
    "Les graphiques de bande passante présentent les mêmes données, mais permettent de mieux voir les valeurs mesurées dans la partie memory-bound du roofline model"
   ]
  },
  {
   "cell_type": "code",
   "execution_count": null,
   "metadata": {},
   "outputs": [],
   "source": [
    "nb_proc=1\n",
    "\n",
    "def plot_bandwidth_perf( threads, size ) :\n",
    "    for name in list_names_nompi:\n",
    "        intensities = flops_count[size,nb_proc]/loadstore_size[size,nb_proc]\n",
    "        GBps = (loadstore_size[size,nb_proc]/res_matrix[nb_proc,rank,threads,size,name])*1000\n",
    "        plt.plot( intensities, GBps, 'd-', label=label_names[name], linewidth=1 )\n",
    "    plot_bandwidth(threads)\n",
    "\n",
    "for threads in list_threads:\n",
    "    i=1\n",
    "    plt.suptitle(\"Bande passante : \" + titles_threads[threads])\n",
    "    for size in list_sizes:        \n",
    "        plt.subplot(1, 2, i).title.set_text(size+\" Elements \")\n",
    "        plot_bandwidth_perf( threads, size )     \n",
    "        i=i+1\n",
    "    plt.legend(loc='center left', bbox_to_anchor=(1, 0.5)) \n",
    "    plt.show()"
   ]
  },
  {
   "cell_type": "markdown",
   "metadata": {},
   "source": [
    "#### Comportement général"
   ]
  },
  {
   "cell_type": "code",
   "execution_count": null,
   "metadata": {},
   "outputs": [],
   "source": [
    "plt.figure(figsize=(0.66*textwidth, figheight))\n",
    "\n",
    "plt.subplot(121).title.set_text(\"(a) Roofline\")\n",
    "plot_roofline_perf(8,'1e+06')\n",
    "\n",
    "plt.subplot(122).title.set_text(\"(b) Bande passante\")\n",
    "plot_bandwidth_perf(8,'1e+06')\n",
    "\n",
    "plt.tight_layout()\n",
    "plt.legend(ncol=4, loc='upper center',  title=\"{\\\\bf Parcours :}\", bbox_to_anchor=(-0.1, -0.15))\n",
    "\n",
    "plt.savefig(\"fig/bench_mesh_omp.pdf\", transparent=True, bbox_inches='tight')\n",
    "plt.show()"
   ]
  },
  {
   "cell_type": "markdown",
   "metadata": {},
   "source": [
    " *Figure* - Performance des parcours de la structure de données pour un volume de données dépassant la capacité du cache L3 ($10^6$ éléments) sur un noeud NUMA (8 threads) \n",
    "\n",
    "Les parcours de la structure de données sur un noeud NUMA, et pour des données plus grosses que le cache utilisent bien les capacités de la machine. \n",
    "* Le parcours des noeuds a une performance proche du parcours de référence 'Stream' sur des tableaux simples.\n",
    "* Le parcours des segments avec les noeuds connectés est un peu moins rapide à cause des accès irréguliers.\n",
    "* Le parcours des noeuds avec segments connectés est moins performant car il est impossible de connaitre à l'avance combien de segments sont connectés à un noeud.\n",
    "\n",
    "Le choix du volume de données et du multithreading est justifié dans les sections suivantes."
   ]
  },
  {
   "cell_type": "markdown",
   "metadata": {},
   "source": [
    "#### Comportement en fonction du nombre de thread"
   ]
  },
  {
   "cell_type": "code",
   "execution_count": null,
   "metadata": {},
   "outputs": [],
   "source": [
    "plt.figure(figsize=(0.66*textwidth, 2*figheight))\n",
    "\n",
    "plt.subplot(221).title.set_text(\"(a) Roofline : 1 NUMA (8 cœurs)\")\n",
    "plot_roofline_perf(8,'1e+06')\n",
    "\n",
    "plt.subplot(222).title.set_text(\"(b) Bande passante : 1 NUMA (8 cœurs)\")\n",
    "plot_bandwidth_perf(8,'1e+06')\n",
    "\n",
    "plt.subplot(223).title.set_text(\"(c) Roofline : Noeud complet (16 cœurs)\")\n",
    "plot_roofline_perf(16,'1e+06')\n",
    "\n",
    "plt.subplot(224).title.set_text(\"(d) Bande passante : Noeud complet (16 cœurs)\")\n",
    "plot_bandwidth_perf(16,'1e+06')\n",
    "\n",
    "plt.tight_layout()\n",
    "plt.legend(ncol=4, loc='lower center', title=\"{\\\\bf Parcours :}\", bbox_to_anchor=(-0.1, -0.3))\n",
    "\n",
    "plt.savefig(\"fig/bench_mesh_omp_effet_threads.pdf\", transparent=True, bbox_inches='tight')\n",
    "plt.show()"
   ]
  },
  {
   "cell_type": "markdown",
   "metadata": {},
   "source": [
    "*Figure* - Impact du nombre de threads sur la performance de la structure de données pour $10^6$ objets\n",
    "\n",
    "Les figures (a) et (b) montrent que la performance sur un noeud NUMA sont proches des performances limites de la machine :\n",
    "* Le parcours des noeuds atteint la bande passante maximale pour les faibles intensités arithmétiques, comme l'experience 'stream' de référence.\n",
    "* Les autre parcours sont moins performants car les accès sont plus irréguliers.\n",
    "\n",
    "Les figures (c) et (d) montrent que les performances des parcours de la structure de données sur le noeud complet ne sont pas meilleurs que sur un seul noeud NUMA. La structure de données n'est pas adaptée à un environnement NUMA : on préferra lancer un processus par noeud NUMA. \n"
   ]
  },
  {
   "cell_type": "markdown",
   "metadata": {},
   "source": [
    "#### Comportement en fonction de la taille"
   ]
  },
  {
   "cell_type": "code",
   "execution_count": null,
   "metadata": {},
   "outputs": [],
   "source": [
    "!mkdir fig\n",
    "\n",
    "plt.figure(figsize=(0.66*textwidth, 2*figheight))\n",
    "\n",
    "plt.subplot(221).title.set_text(\"(a) Roofline : $10^5$ Elements\")\n",
    "plot_roofline_perf(8,'1e+05')\n",
    "\n",
    "plt.subplot(222).title.set_text(\"(b) Bande passante : $10^5$ Elements\")\n",
    "plot_bandwidth_perf(8,'1e+05')\n",
    "\n",
    "plt.subplot(223).title.set_text(\"(c) Roofline : $10^6$ Elements\")\n",
    "plot_roofline_perf(8,'1e+06')\n",
    "\n",
    "plt.subplot(224).title.set_text(\"(d) Bande passante : $10^6$ Elements\")\n",
    "plot_bandwidth_perf(8,'1e+06')\n",
    "\n",
    "plt.tight_layout()\n",
    "plt.legend(ncol=4, loc='lower center',title=\"{\\\\bf Parcours :}\", bbox_to_anchor=(-0.1, -0.3))\n",
    "\n",
    "plt.savefig(\"fig/bench_mesh_omp_effet_taille.pdf\", transparent=True, bbox_inches='tight')\n",
    "plt.show()\n"
   ]
  },
  {
   "cell_type": "markdown",
   "metadata": {},
   "source": [
    "*Figure* - Impact du nombre d'objets contenus dans la structure sur un noeud NUMA (8 threads)\n",
    "\n",
    "Les figures (a) et (b) montrent les performances pour des données qui tiennent en cache L3. On observe des effects de cache dans la partie * memory-bound * du roofline model.\n",
    "Les figures (c) et (d) motrent le sperformances lorsque les données ne tienent pas dans le cache L3. On remarque que la performance est limitée par la bande passante RAM dans la partie gauche des graphes.\n",
    "\n",
    "Dans OptiDis, les données sont souvent évincées du cache car chaque étape de la simulation accède à des champs différents des objets du réseau de dislocations. La mesure la plus pertinante pour connaitre la performance de la structure de données ne doit donc pas prendre en compte les effets de cache. Ce sont les performances pour des tailles de données qui ne tiennent pas en cache qui sont a prendre en compte pour cette étude.\n",
    "\n",
    "La taille des données n'infuence pas l'efficacité dans la partie compute-bound des graphes."
   ]
  },
  {
   "cell_type": "markdown",
   "metadata": {},
   "source": [
    "## Benchmarks MPI"
   ]
  },
  {
   "cell_type": "code",
   "execution_count": null,
   "metadata": {},
   "outputs": [],
   "source": [
    "threads=8\n",
    "intensities=[0,3,9]\n",
    "list_sizes_mpi = ['1e+05', '1e+06']\n",
    "\n",
    "nb_procs = np.array(list_nb_procs)\n",
    "\n",
    "times_max={}\n",
    "times_min={}\n",
    "for size in list_sizes_mpi:        \n",
    "    for name in list_names:\n",
    "        for intensity in intensities:\n",
    "            times_max[size,name,intensity] = np.array([ max([ res_matrix[p,rank,threads,size,name][intensity] for rank in range(p) ]) for p in nb_procs ])\n",
    "            times_min[size,name,intensity] = np.array([ min([ res_matrix[p,rank,threads,size,name][intensity] for rank in range(p) ]) for p in nb_procs ])\n",
    "intensity_val={}\n",
    "for intensity in intensities:\n",
    "    intensity_val[intensity] = flops_count['1e+05',1][intensity]/loadstore_size['1e+05',1][intensity]"
   ]
  },
  {
   "cell_type": "code",
   "execution_count": null,
   "metadata": {},
   "outputs": [],
   "source": [
    "def xaxis_mpi():\n",
    "    #ax.set_xticks(nb_procs)\n",
    "    #plt.xscale('log',basex=2)\n",
    "    plt.xlim([1,64])\n",
    "    plt.xlabel(\"Nombre de processus MPI\")\n",
    "    plt.gca().xaxis.set_major_formatter(plt.FormatStrFormatter('%d'))\n",
    "\n",
    "def plot_times_mpi(intensity, size, my_list_names) :\n",
    "    for name in my_list_names:\n",
    "        nb_procs = np.array(list_nb_procs)\n",
    "        line, = plt.plot( nb_procs, times_max[size,name,intensity],'d-', label=label_names[name], linewidth=1 )\n",
    "        plt.plot( nb_procs, times_min[size,name,intensity],'d--', linewidth=1, color=line.get_color())\n",
    "    plt.xscale('log',basex=2)\n",
    "    plt.ylim(0)\n",
    "    plt.ylabel(\"Temps (us/parcours)\")\n",
    "    xaxis_mpi()\n",
    "\n",
    "for intensity in intensities:\n",
    "    i=1\n",
    "    fig,ax=plt.subplots()\n",
    "    plt.suptitle(\"Weak scaling (Temps) (Intensité = \"+str(intensity_val[intensity])+\" Flops/Octets)\")\n",
    "    for size in list_sizes_mpi:        \n",
    "        plt.subplot(1, 2, i).title.set_text(size+\" Elements/MPI\")\n",
    "        plot_times_mpi(intensity, size, list_names)             \n",
    "        i=i+1\n",
    "    plt.legend(loc='lower left', bbox_to_anchor=(1, 0.5)) \n",
    "    plt.show()"
   ]
  },
  {
   "cell_type": "markdown",
   "metadata": {},
   "source": [
    "Dans les graphes précédents, la ligne pleine représente le temps maximum, et les pointillés le temps minimum. Des pointillés non-confondus avec la ligne pleine indiquent une différence de charge entre les différents processus."
   ]
  },
  {
   "cell_type": "code",
   "execution_count": null,
   "metadata": {},
   "outputs": [],
   "source": [
    "def plot_mpi_efficiency(intensity, size, my_list_names ) :\n",
    "    for name in my_list_names:\n",
    "        plt.plot( nb_procs, times_max[size,name,intensity][1]/times_max[size,name,intensity]*100, 'd-', label=label_names[name], linewidth=1 )\n",
    "    plt.xscale('log',basex=2)\n",
    "    plt.ylim([0,110])\n",
    "    plt.ylabel(\"Efficacité (\\%)\")\n",
    "    xaxis_mpi()\n",
    "\n",
    "for intensity in intensities:\n",
    "    i=1\n",
    "    plt.suptitle(\"Weak scaling (Efficacité) (Intensité = \"+str(intensity_val[intensity])+\" Flops/Octets)\")\n",
    "    for size in list_sizes_mpi:        \n",
    "        plt.subplot(1, 2, i).title.set_text(size+\" Elements/MPI\")\n",
    "        plot_mpi_efficiency(intensity, size, list_names )\n",
    "        #plt.ylim([0,110])\n",
    "        plt.title(str(threads)+\" \"+size)\n",
    "        i=i+1\n",
    "    plt.legend(loc='lower left', bbox_to_anchor=(1, 0.5)) \n",
    "    plt.show()"
   ]
  },
  {
   "cell_type": "markdown",
   "metadata": {},
   "source": [
    "#### Apercu "
   ]
  },
  {
   "cell_type": "code",
   "execution_count": null,
   "metadata": {},
   "outputs": [],
   "source": [
    "!mkdir fig\n",
    "\n",
    "intensity=0\n",
    "my_list_names = ['Stream', 'Nodes', 'Segs with Nodes', 'Nodes with Segs' ]\n",
    "\n",
    "plot_mpi_efficiency(intensity, '1e+05', my_list_names)\n",
    "plt.subplot(121).title.set_text(\"(a) Temps d'éxecution\")\n",
    "plot_times_mpi(intensity, '1e+06', my_list_names)\n",
    "plt.subplot(122).title.set_text(\"(b) Efficacité\")\n",
    "plot_mpi_efficiency(intensity, '1e+06', my_list_names)\n",
    "\n",
    "plt.tight_layout()\n",
    "plt.legend(ncol=4, loc='upper center',  title=\"{\\\\bf Parcours :}\", bbox_to_anchor=(-0.1, -0.15))\n",
    "\n",
    "plt.savefig(\"fig/bench_mesh_mpi_preview.pdf\", transparent=True, bbox_inches='tight')\n",
    "plt.show()"
   ]
  },
  {
   "cell_type": "markdown",
   "metadata": {},
   "source": [
    "#### Impact de la taille des données"
   ]
  },
  {
   "cell_type": "code",
   "execution_count": null,
   "metadata": {},
   "outputs": [],
   "source": [
    "!mkdir fig\n",
    "\n",
    "intensity=0\n",
    "my_list_names = ['Stream', 'Nodes', 'Segs with Nodes', 'Nodes with Segs' ]\n",
    "\n",
    "plt.figure(figsize=(0.66*textwidth, 2*figheight))\n",
    "\n",
    "plt.subplot(221).title.set_text(\"(a) Temps : $10^5$ Elements\")\n",
    "plot_times_mpi(intensity, '1e+05', my_list_names)\n",
    "plt.subplot(222).title.set_text(\"(b) Efficacité : $10^5$ Elements\")\n",
    "plot_mpi_efficiency(intensity, '1e+05', my_list_names)\n",
    "plt.subplot(223).title.set_text(\"(c) Temps : $10^6$ Elements\")\n",
    "plot_times_mpi(intensity, '1e+06', my_list_names)\n",
    "plt.subplot(224).title.set_text(\"(d) Efficacité : $10^6$ Elements\")\n",
    "plot_mpi_efficiency(intensity, '1e+06', my_list_names)\n",
    "\n",
    "plt.tight_layout()\n",
    "plt.legend(ncol=4, loc='lower center', bbox_to_anchor=(-0.1, -0.3))\n",
    "\n",
    "plt.savefig(\"fig/bench_mesh_mpi_effet_taille.pdf\", transparent=True, bbox_inches='tight')\n",
    "plt.show()"
   ]
  },
  {
   "cell_type": "markdown",
   "metadata": {},
   "source": [
    " *Figure* - Performance MPI des parcours de la structure de données pour une intensité de 0.17 Flops/Octet sur 1 noeud NUMA (8 threads) par processus MPI"
   ]
  },
  {
   "cell_type": "markdown",
   "metadata": {},
   "source": [
    "# Benchmark Insertion"
   ]
  },
  {
   "cell_type": "code",
   "execution_count": null,
   "metadata": {},
   "outputs": [],
   "source": [
    "!grep -r '# Mesh construct time = ' data/out_* > data/mesh_insert_data.txt\n",
    "\n",
    "res_matrix_insert={}\n",
    "\n",
    "for line in open(\"data/mesh_insert_data.txt\"):\n",
    "    nb_proc,rank,threads,size,t = re.match(\".*out_p(\\d*)_r(\\d*)_t(\\d*)_s(\\d*e\\+\\d*):# Mesh construct time = (\\d*.\\d*) ms\", line).groups()\n",
    "    rank=int(rank)\n",
    "    nb_proc=int(nb_proc)\n",
    "    threads=int(threads)\n",
    "    res_matrix_insert[nb_proc,rank,threads,size] = float(t)\n",
    "\n",
    "list_nb_procs = np.array(sorted([a for a in set([ p for (p,r,t,s) in  res_matrix_insert.keys() ])]))\n",
    "list_threads = sorted([a for a in set([ t for (p,r,t,s) in  res_matrix_insert.keys() ])])\n",
    "list_sizes = sorted([a for a in set([ s for (p,r,t,s) in  res_matrix_insert.keys() ])])"
   ]
  },
  {
   "cell_type": "code",
   "execution_count": null,
   "metadata": {},
   "outputs": [],
   "source": [
    "rank=0\n",
    "threads=8\n",
    "size='1e+06'\n",
    "\n",
    "plt.figure(figsize=(0.66*textwidth, 2*figheight))\n",
    "times = np.array([ res_matrix_insert[nb_proc,rank,threads,size] for nb_proc in list_nb_procs ])\n",
    "nb_objects = (2*float(size)*list_nb_procs)\n",
    "plt.plot( list_nb_procs, nb_objects/(times/1000), 'd-' )\n",
    "plt.ylabel(\"Vitesse d'insertion (Objets/s)\")\n",
    "plt.xlim([1,64])\n",
    "plt.ylim(0)\n",
    "plt.gca().ticklabel_format(axis='y', style='sci', scilimits=(-2, 2))\n",
    "plt.xscale('log',basex=2)\n",
    "xaxis_mpi()\n",
    "plt.show()"
   ]
  }
 ],
 "metadata": {
  "kernelspec": {
   "display_name": "Python 3",
   "language": "python",
   "name": "python3"
  },
  "language_info": {
   "codemirror_mode": {
    "name": "ipython",
    "version": 3
   },
   "file_extension": ".py",
   "mimetype": "text/x-python",
   "name": "python",
   "nbconvert_exporter": "python",
   "pygments_lexer": "ipython3",
   "version": "3.6.5"
  }
 },
 "nbformat": 4,
 "nbformat_minor": 2
}
